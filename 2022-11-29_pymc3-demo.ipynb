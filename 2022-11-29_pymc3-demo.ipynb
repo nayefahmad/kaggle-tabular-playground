{
 "cells": [
  {
   "cell_type": "markdown",
   "id": "1c132e77",
   "metadata": {
    "_cell_guid": "7ac208ed-f043-49a9-8d38-dc005745747d",
    "_uuid": "f00daf70-014d-437d-af15-e6b0fdbb884c",
    "execution": {
     "iopub.execute_input": "2022-11-29T16:54:54.078897Z",
     "iopub.status.busy": "2022-11-29T16:54:54.078414Z",
     "iopub.status.idle": "2022-11-29T16:54:54.084456Z",
     "shell.execute_reply": "2022-11-29T16:54:54.083050Z",
     "shell.execute_reply.started": "2022-11-29T16:54:54.078849Z"
    },
    "papermill": {
     "duration": 0.004507,
     "end_time": "2022-12-02T00:31:58.631160",
     "exception": false,
     "start_time": "2022-12-02T00:31:58.626653",
     "status": "completed"
    },
    "tags": []
   },
   "source": [
    "# PyMC3 Demo \n",
    "2022-11-29\n",
    "\n",
    "## Overview \n",
    "\n",
    "\n",
    "## References\n",
    "- [PyMC3 getting started docs](https://docs.pymc.io/en/v3/pymc-examples/examples/getting_started.html)"
   ]
  },
  {
   "cell_type": "code",
   "execution_count": 1,
   "id": "c23ee372",
   "metadata": {
    "_cell_guid": "90c0eac6-9e9e-4130-9e35-4b90d2dc0f64",
    "_uuid": "0a889a66-ce29-476a-a82e-fc0213b0673b",
    "collapsed": false,
    "execution": {
     "iopub.execute_input": "2022-12-02T00:31:58.638838Z",
     "iopub.status.busy": "2022-12-02T00:31:58.638344Z",
     "iopub.status.idle": "2022-12-02T00:32:04.166478Z",
     "shell.execute_reply": "2022-12-02T00:32:04.164830Z"
    },
    "jupyter": {
     "outputs_hidden": false
    },
    "papermill": {
     "duration": 5.535768,
     "end_time": "2022-12-02T00:32:04.169804",
     "exception": false,
     "start_time": "2022-12-02T00:31:58.634036",
     "status": "completed"
    },
    "tags": []
   },
   "outputs": [],
   "source": [
    "from dataclasses import dataclass\n",
    "from typing import List\n",
    "\n",
    "import pymc3\n",
    "import arviz as az\n",
    "import numpy as np\n",
    "import matplotlib.pyplot as plt "
   ]
  },
  {
   "cell_type": "code",
   "execution_count": 2,
   "id": "b2cea0ca",
   "metadata": {
    "_cell_guid": "9c52b1ed-67f0-4119-ae19-cebb45ab4d69",
    "_uuid": "46dc3985-94c0-4232-8344-58a6a08824e8",
    "collapsed": false,
    "execution": {
     "iopub.execute_input": "2022-12-02T00:32:04.178142Z",
     "iopub.status.busy": "2022-12-02T00:32:04.177675Z",
     "iopub.status.idle": "2022-12-02T00:32:04.185875Z",
     "shell.execute_reply": "2022-12-02T00:32:04.183898Z"
    },
    "jupyter": {
     "outputs_hidden": false
    },
    "papermill": {
     "duration": 0.017226,
     "end_time": "2022-12-02T00:32:04.189993",
     "exception": false,
     "start_time": "2022-12-02T00:32:04.172767",
     "status": "completed"
    },
    "tags": []
   },
   "outputs": [],
   "source": [
    "@dataclass\n",
    "class Params: \n",
    "    num_rows: int\n",
    "    alpha: float\n",
    "    sigma: float    \n",
    "    beta: List[float]\n",
    "\n",
    "# set up true parameter values \n",
    "p = Params(num_rows=100, alpha=1, sigma=1, beta=[1, .5])"
   ]
  },
  {
   "cell_type": "code",
   "execution_count": 3,
   "id": "98614352",
   "metadata": {
    "_cell_guid": "389b8d6f-c95f-47a1-9dd1-d33811df50cb",
    "_uuid": "f8d63cf0-a5cf-4c8a-aae6-4ab480029592",
    "collapsed": false,
    "execution": {
     "iopub.execute_input": "2022-12-02T00:32:04.199078Z",
     "iopub.status.busy": "2022-12-02T00:32:04.198239Z",
     "iopub.status.idle": "2022-12-02T00:32:04.206114Z",
     "shell.execute_reply": "2022-12-02T00:32:04.204237Z"
    },
    "jupyter": {
     "outputs_hidden": false
    },
    "papermill": {
     "duration": 0.016578,
     "end_time": "2022-12-02T00:32:04.209541",
     "exception": false,
     "start_time": "2022-12-02T00:32:04.192963",
     "status": "completed"
    },
    "tags": []
   },
   "outputs": [],
   "source": [
    "x1 = np.random.randn(p.num_rows)\n",
    "x2 = np.random.randn(p.num_rows)\n",
    "\n",
    "underlying_relationship = p.alpha + p.beta[0] * x1 + p.beta[0] * x2\n",
    "\n",
    "y = underlying_relationship + np.random.normal(scale=p.sigma)"
   ]
  },
  {
   "cell_type": "code",
   "execution_count": null,
   "id": "84aad3eb",
   "metadata": {
    "papermill": {
     "duration": 0.002237,
     "end_time": "2022-12-02T00:32:04.214543",
     "exception": false,
     "start_time": "2022-12-02T00:32:04.212306",
     "status": "completed"
    },
    "tags": []
   },
   "outputs": [],
   "source": []
  }
 ],
 "metadata": {
  "kernelspec": {
   "display_name": "Python 3",
   "language": "python",
   "name": "python3"
  },
  "language_info": {
   "codemirror_mode": {
    "name": "ipython",
    "version": 3
   },
   "file_extension": ".py",
   "mimetype": "text/x-python",
   "name": "python",
   "nbconvert_exporter": "python",
   "pygments_lexer": "ipython3",
   "version": "3.7.12"
  },
  "papermill": {
   "default_parameters": {},
   "duration": 17.629207,
   "end_time": "2022-12-02T00:32:05.342584",
   "environment_variables": {},
   "exception": null,
   "input_path": "__notebook__.ipynb",
   "output_path": "__notebook__.ipynb",
   "parameters": {},
   "start_time": "2022-12-02T00:31:47.713377",
   "version": "2.3.4"
  }
 },
 "nbformat": 4,
 "nbformat_minor": 5
}
