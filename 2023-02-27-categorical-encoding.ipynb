{
 "cells": [
  {
   "cell_type": "markdown",
   "id": "8cefe3db",
   "metadata": {
    "papermill": {
     "duration": 0.002177,
     "end_time": "2023-01-30T14:26:15.847491",
     "exception": false,
     "start_time": "2023-01-30T14:26:15.845314",
     "status": "completed"
    },
    "tags": []
   },
   "source": [
    "# Categorical encoding "
   ]
  },
  {
   "cell_type": "code",
   "execution_count": 1,
   "id": "69b3484d",
   "metadata": {
    "execution": {
     "iopub.execute_input": "2023-01-30T14:26:15.853597Z",
     "iopub.status.busy": "2023-01-30T14:26:15.853078Z",
     "iopub.status.idle": "2023-01-30T14:26:17.025558Z",
     "shell.execute_reply": "2023-01-30T14:26:17.022983Z"
    },
    "papermill": {
     "duration": 1.178567,
     "end_time": "2023-01-30T14:26:17.028056",
     "exception": false,
     "start_time": "2023-01-30T14:26:15.849489",
     "status": "completed"
    },
    "tags": []
   },
   "outputs": [
    {
     "name": "stdout",
     "output_type": "stream",
     "text": [
      "indexes: {'B': 0, 'C': 1, 'A': 2}\n",
      "embeddings: {'A': array([ 0.07311766,  0.05070262,  0.06757693,  0.00762866,  0.06350889,\n",
      "       -0.03405366, -0.00946403,  0.05768573, -0.07521639, -0.03936105],\n",
      "      dtype=float32), 'B': array([-0.00536227,  0.0023643 ,  0.0510335 ,  0.09009273, -0.0930295 ,\n",
      "       -0.07116809,  0.06458871,  0.08972988, -0.05015428, -0.03763373],\n",
      "      dtype=float32), 'C': array([ 0.07380505, -0.01533473, -0.04536615,  0.06554051, -0.0486016 ,\n",
      "       -0.01816018,  0.0287658 ,  0.00991874, -0.08285215, -0.09448819],\n",
      "      dtype=float32)} \n",
      "\n",
      "A most similar to [('C', 0.32937222719192505), ('B', 0.3004249632358551)]\n",
      "B most similar to [('C', 0.5436005592346191), ('A', 0.3004249632358551)]\n",
      "C most similar to [('B', 0.5436005592346191), ('A', 0.3293722867965698)]\n"
     ]
    }
   ],
   "source": [
    "# Use labelled training data. Each pair in `train` is [wuc_as_coded, wuc_manual]\n",
    "\n",
    "# A Word2Vec model should learn that A is closer to B than to C. \n",
    "# That is, when A is miscoded, it is more likely to be miscoded as B than as C. \n",
    "\n",
    "# Also, the embedding should learn that B and C are very close, and are closer \n",
    "# than A and B. \n",
    "\n",
    "# This embedding can be passed as a feature to the WUC classifier. \n",
    "\n",
    "\n",
    "from gensim.models import Word2Vec\n",
    "\n",
    "train = [\n",
    "    ['A', 'B'], \n",
    "    \n",
    "    ['B', 'C'], \n",
    "    ['B', 'C'], \n",
    "    ['B', 'C'], \n",
    "    \n",
    "    ['C', 'B'], \n",
    "    ['C', 'B'], \n",
    "    ['C', 'B'], \n",
    "]\n",
    "\n",
    "model = Word2Vec(sentences=train, sg=1, vector_size=10, min_count=1, window=1)\n",
    "\n",
    "print(f'indexes: {model.wv.key_to_index}')\n",
    "\n",
    "embeddings = {}\n",
    "for word in ['A', 'B', 'C']: \n",
    "    vec = model.wv.get_vector(word)\n",
    "    embeddings[word] = vec\n",
    "\n",
    "print(f'embeddings: {embeddings} \\n')\n",
    "\n",
    "for word in ['A', 'B', 'C']: \n",
    "    print(f'{word} most similar to {model.wv.most_similar(word)}')"
   ]
  },
  {
   "cell_type": "code",
   "execution_count": null,
   "id": "78ec86d1",
   "metadata": {
    "papermill": {
     "duration": 0.001289,
     "end_time": "2023-01-30T14:26:17.031170",
     "exception": false,
     "start_time": "2023-01-30T14:26:17.029881",
     "status": "completed"
    },
    "tags": []
   },
   "outputs": [],
   "source": []
  }
 ],
 "metadata": {
  "kernelspec": {
   "display_name": "Python 3",
   "language": "python",
   "name": "python3"
  },
  "language_info": {
   "codemirror_mode": {
    "name": "ipython",
    "version": 3
   },
   "file_extension": ".py",
   "mimetype": "text/x-python",
   "name": "python",
   "nbconvert_exporter": "python",
   "pygments_lexer": "ipython3",
   "version": "3.7.12"
  },
  "papermill": {
   "default_parameters": {},
   "duration": 10.004456,
   "end_time": "2023-01-30T14:26:17.854458",
   "environment_variables": {},
   "exception": null,
   "input_path": "__notebook__.ipynb",
   "output_path": "__notebook__.ipynb",
   "parameters": {},
   "start_time": "2023-01-30T14:26:07.850002",
   "version": "2.3.4"
  }
 },
 "nbformat": 4,
 "nbformat_minor": 5
}
