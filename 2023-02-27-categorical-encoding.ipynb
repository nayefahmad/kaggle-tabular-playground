{
 "cells": [
  {
   "cell_type": "markdown",
   "id": "899504b9",
   "metadata": {
    "papermill": {
     "duration": 0.003613,
     "end_time": "2023-01-27T15:01:37.832467",
     "exception": false,
     "start_time": "2023-01-27T15:01:37.828854",
     "status": "completed"
    },
    "tags": []
   },
   "source": [
    "# Categorical encoding "
   ]
  },
  {
   "cell_type": "code",
   "execution_count": 1,
   "id": "7580da0a",
   "metadata": {
    "execution": {
     "iopub.execute_input": "2023-01-27T15:01:37.840856Z",
     "iopub.status.busy": "2023-01-27T15:01:37.840210Z",
     "iopub.status.idle": "2023-01-27T15:01:39.357659Z",
     "shell.execute_reply": "2023-01-27T15:01:39.356179Z"
    },
    "papermill": {
     "duration": 1.526452,
     "end_time": "2023-01-27T15:01:39.361662",
     "exception": false,
     "start_time": "2023-01-27T15:01:37.835210",
     "status": "completed"
    },
    "tags": []
   },
   "outputs": [],
   "source": [
    "import gensim \n",
    "from gensim.models import Word2Vec"
   ]
  },
  {
   "cell_type": "code",
   "execution_count": 2,
   "id": "c999a42c",
   "metadata": {
    "execution": {
     "iopub.execute_input": "2023-01-27T15:01:39.369031Z",
     "iopub.status.busy": "2023-01-27T15:01:39.368452Z",
     "iopub.status.idle": "2023-01-27T15:01:39.402161Z",
     "shell.execute_reply": "2023-01-27T15:01:39.400368Z"
    },
    "papermill": {
     "duration": 0.043154,
     "end_time": "2023-01-27T15:01:39.407328",
     "exception": false,
     "start_time": "2023-01-27T15:01:39.364174",
     "status": "completed"
    },
    "tags": []
   },
   "outputs": [
    {
     "name": "stdout",
     "output_type": "stream",
     "text": [
      "embeddings: {'A': array([-0.05362272], dtype=float32), 'B': array([0.02364302], dtype=float32), 'C': array([0.51033497], dtype=float32)}\n",
      "distance between A and B: 0.07726573944091797\n",
      "distance between A and C: 0.563957691192627\n",
      "distance between B and C: 0.486691951751709\n",
      ">> Error in assert abs_B_C < abs_A_B\n"
     ]
    }
   ],
   "source": [
    "# Use labelled training data\n",
    "# Each pair in train is [wuc_as_coded, wuc_manual]\n",
    "\n",
    "# A Word2Vec model should learn that A is closer to B than to C. \n",
    "# That is, when A is miscoded, it is more likely to be miscoded as B than as C. \n",
    "\n",
    "# Also, the embedding should learn that B and C are very close, and are closer \n",
    "# than A and B. \n",
    "\n",
    "# This embedding can be passed as a feature to the WUC classifier. \n",
    "\n",
    "train = [\n",
    "    ['A', 'A'], \n",
    "    ['A', 'A'], \n",
    "    ['A', 'A'], \n",
    "    ['A', 'A'], \n",
    "    ['A', 'A'], \n",
    "    ['A', 'B'], \n",
    "    ['B', 'C'], \n",
    "    ['B', 'C'], \n",
    "    ['B', 'C'], \n",
    "    ['C', 'B'], \n",
    "    ['B', 'B'], \n",
    "    ['B', 'C'],\n",
    "    ['C', 'C'],\n",
    "]\n",
    "\n",
    "model = Word2Vec(sentences=train, sg=1, vector_size=1)\n",
    "\n",
    "model.wv.key_to_index\n",
    "\n",
    "embeddings = {}\n",
    "for word in ['A', 'B', 'C']: \n",
    "    vec = model.wv.get_vector(word)\n",
    "    embeddings[word] = vec\n",
    "\n",
    "print(f'embeddings: {embeddings}')\n",
    "\n",
    "abs_A_B = abs(embeddings['A'][0] - embeddings['B'][0])\n",
    "abs_A_C = abs(embeddings['A'][0] - embeddings['C'][0])\n",
    "abs_B_C = abs(embeddings['B'][0] - embeddings['C'][0])\n",
    "\n",
    "\n",
    "print(f\"distance between A and B: {abs_A_B}\")\n",
    "print(f'distance between A and C: {abs_A_C}')\n",
    "print(f'distance between B and C: {abs_B_C}')\n",
    "\n",
    "\n",
    "try: \n",
    "    assert abs_A_B < abs_A_C, \"assert abs_A_B < abs_A_C\"\n",
    "    assert abs_B_C < abs_A_B, \"assert abs_B_C < abs_A_B\"\n",
    "except AssertionError as e: \n",
    "    print(f'>> Error in {e}')\n",
    "    "
   ]
  },
  {
   "cell_type": "code",
   "execution_count": null,
   "id": "82ef2296",
   "metadata": {
    "papermill": {
     "duration": 0.00214,
     "end_time": "2023-01-27T15:01:39.412514",
     "exception": false,
     "start_time": "2023-01-27T15:01:39.410374",
     "status": "completed"
    },
    "tags": []
   },
   "outputs": [],
   "source": []
  }
 ],
 "metadata": {
  "kernelspec": {
   "display_name": "Python 3",
   "language": "python",
   "name": "python3"
  },
  "language_info": {
   "codemirror_mode": {
    "name": "ipython",
    "version": 3
   },
   "file_extension": ".py",
   "mimetype": "text/x-python",
   "name": "python",
   "nbconvert_exporter": "python",
   "pygments_lexer": "ipython3",
   "version": "3.7.12"
  },
  "papermill": {
   "default_parameters": {},
   "duration": 13.63995,
   "end_time": "2023-01-27T15:01:40.542719",
   "environment_variables": {},
   "exception": null,
   "input_path": "__notebook__.ipynb",
   "output_path": "__notebook__.ipynb",
   "parameters": {},
   "start_time": "2023-01-27T15:01:26.902769",
   "version": "2.3.4"
  }
 },
 "nbformat": 4,
 "nbformat_minor": 5
}
