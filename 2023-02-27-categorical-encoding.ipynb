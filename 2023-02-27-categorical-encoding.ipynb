{
 "cells": [
  {
   "cell_type": "markdown",
   "id": "1011a1fc",
   "metadata": {
    "papermill": {
     "duration": 0.002863,
     "end_time": "2023-01-30T15:11:18.054198",
     "exception": false,
     "start_time": "2023-01-30T15:11:18.051335",
     "status": "completed"
    },
    "tags": []
   },
   "source": [
    "# Categorical encoding \n",
    "\n",
    "## Reference\n",
    "\n",
    "1. [kaggle nb](https://www.kaggle.com/code/chewzy/tutorial-how-to-train-your-custom-word-embedding/notebook)\n",
    "\n",
    "1. [ML mastery](https://machinelearningmastery.com/develop-word-embeddings-python-gensim/)\n",
    "\n",
    "1. [gensim docs](https://radimrehurek.com/gensim/models/word2vec.html)\n",
    "\n",
    "1. [dirty_cat docs](https://dirty-cat.github.io/stable/auto_examples/01_dirty_categories.html#sphx-glr-auto-examples-01-dirty-categories-py)"
   ]
  },
  {
   "cell_type": "code",
   "execution_count": 1,
   "id": "af32ac51",
   "metadata": {
    "execution": {
     "iopub.execute_input": "2023-01-30T15:11:18.061139Z",
     "iopub.status.busy": "2023-01-30T15:11:18.060152Z",
     "iopub.status.idle": "2023-01-30T15:11:18.067407Z",
     "shell.execute_reply": "2023-01-30T15:11:18.066007Z"
    },
    "papermill": {
     "duration": 0.014218,
     "end_time": "2023-01-30T15:11:18.070574",
     "exception": false,
     "start_time": "2023-01-30T15:11:18.056356",
     "status": "completed"
    },
    "tags": []
   },
   "outputs": [],
   "source": [
    "# Use labelled training data. Each pair in `train` is [wuc_as_coded, wuc_manual]\n",
    "\n",
    "# A Word2Vec model should learn that A is closer to B than to C. \n",
    "# That is, when A is miscoded, it is more likely to be miscoded as B than as C. \n",
    "\n",
    "# Also, the embedding should learn that B and C are very close, and are closer \n",
    "# than A and B. \n",
    "\n",
    "# This embedding can be passed as a feature to the WUC classifier. "
   ]
  },
  {
   "cell_type": "code",
   "execution_count": 2,
   "id": "7c4ef412",
   "metadata": {
    "execution": {
     "iopub.execute_input": "2023-01-30T15:11:18.076149Z",
     "iopub.status.busy": "2023-01-30T15:11:18.075747Z",
     "iopub.status.idle": "2023-01-30T15:11:19.273739Z",
     "shell.execute_reply": "2023-01-30T15:11:19.272986Z"
    },
    "papermill": {
     "duration": 1.203841,
     "end_time": "2023-01-30T15:11:19.276539",
     "exception": false,
     "start_time": "2023-01-30T15:11:18.072698",
     "status": "completed"
    },
    "tags": []
   },
   "outputs": [
    {
     "name": "stdout",
     "output_type": "stream",
     "text": [
      "indexes: {'B': 0, 'C': 1, 'A': 2}\n",
      "embeddings: {'A': array([ 0.07311766,  0.05070262,  0.06757693,  0.00762866,  0.06350889,\n",
      "       -0.03405366, -0.00946403,  0.05768573, -0.07521639, -0.03936105],\n",
      "      dtype=float32), 'B': array([-0.00536227,  0.0023643 ,  0.0510335 ,  0.09009273, -0.0930295 ,\n",
      "       -0.07116809,  0.06458871,  0.08972988, -0.05015428, -0.03763373],\n",
      "      dtype=float32), 'C': array([ 0.07380505, -0.01533473, -0.04536615,  0.06554051, -0.0486016 ,\n",
      "       -0.01816018,  0.0287658 ,  0.00991874, -0.08285215, -0.09448819],\n",
      "      dtype=float32)} \n",
      "\n",
      "A most similar to [('C', 0.32937222719192505), ('B', 0.3004249632358551)]\n",
      "B most similar to [('C', 0.5436005592346191), ('A', 0.3004249632358551)]\n",
      "C most similar to [('B', 0.5436005592346191), ('A', 0.3293722867965698)]\n"
     ]
    }
   ],
   "source": [
    "from gensim.models import Word2Vec\n",
    "\n",
    "train = [\n",
    "    ['A', 'B'], \n",
    "    \n",
    "    ['B', 'C'], \n",
    "    ['B', 'C'], \n",
    "    ['B', 'C'], \n",
    "    \n",
    "    ['C', 'B'], \n",
    "    ['C', 'B'], \n",
    "    ['C', 'B'], \n",
    "]\n",
    "\n",
    "model = Word2Vec(sentences=train, sg=1, vector_size=10, min_count=1, window=1)\n",
    "\n",
    "print(f'indexes: {model.wv.key_to_index}')\n",
    "\n",
    "embeddings = {}\n",
    "for word in ['A', 'B', 'C']: \n",
    "    vec = model.wv.get_vector(word)\n",
    "    embeddings[word] = vec\n",
    "\n",
    "print(f'embeddings: {embeddings} \\n')\n",
    "\n",
    "for word in ['A', 'B', 'C']: \n",
    "    print(f'{word} most similar to {model.wv.most_similar(word)}')"
   ]
  },
  {
   "cell_type": "code",
   "execution_count": null,
   "id": "e021735e",
   "metadata": {
    "papermill": {
     "duration": 0.00173,
     "end_time": "2023-01-30T15:11:19.280423",
     "exception": false,
     "start_time": "2023-01-30T15:11:19.278693",
     "status": "completed"
    },
    "tags": []
   },
   "outputs": [],
   "source": []
  }
 ],
 "metadata": {
  "kernelspec": {
   "display_name": "Python 3",
   "language": "python",
   "name": "python3"
  },
  "language_info": {
   "codemirror_mode": {
    "name": "ipython",
    "version": 3
   },
   "file_extension": ".py",
   "mimetype": "text/x-python",
   "name": "python",
   "nbconvert_exporter": "python",
   "pygments_lexer": "ipython3",
   "version": "3.7.12"
  },
  "papermill": {
   "default_parameters": {},
   "duration": 10.400576,
   "end_time": "2023-01-30T15:11:20.003796",
   "environment_variables": {},
   "exception": null,
   "input_path": "__notebook__.ipynb",
   "output_path": "__notebook__.ipynb",
   "parameters": {},
   "start_time": "2023-01-30T15:11:09.603220",
   "version": "2.3.4"
  }
 },
 "nbformat": 4,
 "nbformat_minor": 5
}
