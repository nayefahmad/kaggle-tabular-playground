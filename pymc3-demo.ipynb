{
 "cells": [
  {
   "cell_type": "markdown",
   "id": "6c996ed1",
   "metadata": {
    "execution": {
     "iopub.execute_input": "2022-11-29T16:54:54.078897Z",
     "iopub.status.busy": "2022-11-29T16:54:54.078414Z",
     "iopub.status.idle": "2022-11-29T16:54:54.084456Z",
     "shell.execute_reply": "2022-11-29T16:54:54.083050Z",
     "shell.execute_reply.started": "2022-11-29T16:54:54.078849Z"
    },
    "papermill": {
     "duration": 0.002164,
     "end_time": "2022-11-29T17:08:36.788549",
     "exception": false,
     "start_time": "2022-11-29T17:08:36.786385",
     "status": "completed"
    },
    "tags": []
   },
   "source": [
    "# PyMC3 Demo \n",
    "2022-11-29\n",
    "\n",
    "## Overview \n",
    "\n",
    "\n",
    "## References\n"
   ]
  },
  {
   "cell_type": "code",
   "execution_count": 1,
   "id": "7ce97504",
   "metadata": {
    "execution": {
     "iopub.execute_input": "2022-11-29T17:08:36.793701Z",
     "iopub.status.busy": "2022-11-29T17:08:36.793294Z",
     "iopub.status.idle": "2022-11-29T17:08:40.282403Z",
     "shell.execute_reply": "2022-11-29T17:08:40.281400Z"
    },
    "papermill": {
     "duration": 3.49478,
     "end_time": "2022-11-29T17:08:40.284967",
     "exception": false,
     "start_time": "2022-11-29T17:08:36.790187",
     "status": "completed"
    },
    "tags": []
   },
   "outputs": [],
   "source": [
    "import arviz as az\n",
    "import numpy as np"
   ]
  },
  {
   "cell_type": "code",
   "execution_count": null,
   "id": "0f5f5c1a",
   "metadata": {
    "papermill": {
     "duration": 0.001118,
     "end_time": "2022-11-29T17:08:40.287631",
     "exception": false,
     "start_time": "2022-11-29T17:08:40.286513",
     "status": "completed"
    },
    "tags": []
   },
   "outputs": [],
   "source": []
  }
 ],
 "metadata": {
  "kernelspec": {
   "display_name": "Python 3",
   "language": "python",
   "name": "python3"
  },
  "language_info": {
   "codemirror_mode": {
    "name": "ipython",
    "version": 3
   },
   "file_extension": ".py",
   "mimetype": "text/x-python",
   "name": "python",
   "nbconvert_exporter": "python",
   "pygments_lexer": "ipython3",
   "version": "3.7.12"
  },
  "papermill": {
   "default_parameters": {},
   "duration": 11.836847,
   "end_time": "2022-11-29T17:08:41.214379",
   "environment_variables": {},
   "exception": null,
   "input_path": "__notebook__.ipynb",
   "output_path": "__notebook__.ipynb",
   "parameters": {},
   "start_time": "2022-11-29T17:08:29.377532",
   "version": "2.3.4"
  }
 },
 "nbformat": 4,
 "nbformat_minor": 5
}
