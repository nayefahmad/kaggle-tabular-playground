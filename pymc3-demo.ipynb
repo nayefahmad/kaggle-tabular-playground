{
 "cells": [
  {
   "cell_type": "markdown",
   "id": "fd1c5fb2",
   "metadata": {
    "execution": {
     "iopub.execute_input": "2022-11-29T16:54:54.078897Z",
     "iopub.status.busy": "2022-11-29T16:54:54.078414Z",
     "iopub.status.idle": "2022-11-29T16:54:54.084456Z",
     "shell.execute_reply": "2022-11-29T16:54:54.083050Z",
     "shell.execute_reply.started": "2022-11-29T16:54:54.078849Z"
    },
    "papermill": {
     "duration": 0.002721,
     "end_time": "2022-11-29T17:09:15.276334",
     "exception": false,
     "start_time": "2022-11-29T17:09:15.273613",
     "status": "completed"
    },
    "tags": []
   },
   "source": [
    "# PyMC3 Demo \n",
    "2022-11-29\n",
    "\n",
    "## Overview \n",
    "\n",
    "\n",
    "## References\n"
   ]
  },
  {
   "cell_type": "code",
   "execution_count": 1,
   "id": "a8610435",
   "metadata": {
    "execution": {
     "iopub.execute_input": "2022-11-29T17:09:15.282123Z",
     "iopub.status.busy": "2022-11-29T17:09:15.281531Z",
     "iopub.status.idle": "2022-11-29T17:09:20.562630Z",
     "shell.execute_reply": "2022-11-29T17:09:20.561141Z"
    },
    "papermill": {
     "duration": 5.288119,
     "end_time": "2022-11-29T17:09:20.566312",
     "exception": false,
     "start_time": "2022-11-29T17:09:15.278193",
     "status": "completed"
    },
    "tags": []
   },
   "outputs": [],
   "source": [
    "import pymc3\n",
    "import arviz as az\n",
    "import numpy as np\n"
   ]
  },
  {
   "cell_type": "code",
   "execution_count": null,
   "id": "708ee6b4",
   "metadata": {
    "papermill": {
     "duration": 0.001624,
     "end_time": "2022-11-29T17:09:20.570424",
     "exception": false,
     "start_time": "2022-11-29T17:09:20.568800",
     "status": "completed"
    },
    "tags": []
   },
   "outputs": [],
   "source": []
  }
 ],
 "metadata": {
  "kernelspec": {
   "display_name": "Python 3",
   "language": "python",
   "name": "python3"
  },
  "language_info": {
   "codemirror_mode": {
    "name": "ipython",
    "version": 3
   },
   "file_extension": ".py",
   "mimetype": "text/x-python",
   "name": "python",
   "nbconvert_exporter": "python",
   "pygments_lexer": "ipython3",
   "version": "3.7.12"
  },
  "papermill": {
   "default_parameters": {},
   "duration": 14.911967,
   "end_time": "2022-11-29T17:09:21.598042",
   "environment_variables": {},
   "exception": null,
   "input_path": "__notebook__.ipynb",
   "output_path": "__notebook__.ipynb",
   "parameters": {},
   "start_time": "2022-11-29T17:09:06.686075",
   "version": "2.3.4"
  }
 },
 "nbformat": 4,
 "nbformat_minor": 5
}
